{
 "metadata": {
  "name": "",
  "signature": "sha256:a5647d13acaa1e23fffb0a5adb1e9d7dbb1edaba2ee258286979875916bb6cb0"
 },
 "nbformat": 3,
 "nbformat_minor": 0,
 "worksheets": []
}